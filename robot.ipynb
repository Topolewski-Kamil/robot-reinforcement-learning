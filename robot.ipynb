{
  "cells": [
    {
      "cell_type": "markdown",
      "metadata": {
        "id": "view-in-github",
        "colab_type": "text"
      },
      "source": [
        "<a href=\"https://colab.research.google.com/github/Topolewski-Kamil/robot-reinforcement-learning/blob/main/robot.ipynb\" target=\"_parent\"><img src=\"https://colab.research.google.com/assets/colab-badge.svg\" alt=\"Open In Colab\"/></a>"
      ]
    },
    {
      "cell_type": "markdown",
      "metadata": {
        "id": "DKe25vnq1nSY"
      },
      "source": [
        "#### Script that returns the learning curve for each trial"
      ]
    },
    {
      "cell_type": "code",
      "execution_count": 11,
      "metadata": {
        "id": "ASFYdGvI1nSZ"
      },
      "outputs": [],
      "source": [
        "import numpy as np\n",
        "import matplotlib.pyplot as plt\n",
        "\n",
        "def homing_nn(n_trials, n_steps, learning_rate, eps, gamma):\n",
        "\n",
        "    lam = 0.9\n",
        "    \n",
        "    ## Definition of the environment\n",
        "    N = 4                               #height of the gridworld ---> number of rows\n",
        "    M = 12                               #length of the gridworld ---> number of columns\n",
        "    N_states = N * M                    #total number of states\n",
        "    \n",
        "    # Initialise a matrix where each row is one of the possible state vectors.\n",
        "    states_matrix = np.eye(N_states)\n",
        "\n",
        "    # 4 possible actions to move to each adjacent square\n",
        "    N_actions = 4                                           \n",
        "    action_change = np.array( [ [ 0, +1],\n",
        "                                [+1, 0],\n",
        "                                [ 0, -1],\n",
        "                                [-1, 0]])\n",
        "    action_labels = ['Right', 'Down', 'Left', 'Up'] \n",
        "    \n",
        "    \n",
        "    End = np.array([0, 11])                                     #terminal state--->reward\n",
        "    s_end = np.ravel_multi_index(End, dims=(N, M), order='F')  #terminal state. Conversion in single index\n",
        "\n",
        "    ## Rewards\n",
        "    R_end = 100                              #only when the robot reaches the charger, sited in End state\n",
        "\n",
        "    ## Variables\n",
        "    # Weight matrix to predict the Q-values for eah action in a given state\n",
        "    weights = np.random.rand(N_actions, N_states)*0.0\n",
        "    \n",
        "    # Learning curve: Here we will store the number of steps taken per trial\n",
        "    learning_curve = np.zeros((n_trials))\n",
        "    \n",
        "    ## SARSA Algorithm\n",
        "    Rewards = np.zeros((1,nTrials))\n",
        "    RewardsSmooth = np.zeros((1,nTrials))\n",
        "    \n",
        "    # will employ an exponential moving average to smooth over multiple trials\n",
        "    tau = 0.05\n",
        "\n",
        "    # Start trials\n",
        "    for trial in range(n_trials):\n",
        "\n",
        "        # Initialization\n",
        "        Start = np.array([0,0])  #random start\n",
        "        s_start = np.ravel_multi_index(Start, dims=(N,M), order='F')    #conversion in single index\n",
        "\n",
        "        state = Start                                                   #set current state\n",
        "        s_index = s_start                                               #conversion in single index\n",
        "        step = 0\n",
        "        \n",
        "        # convert the state into an input vector\n",
        "        x = states_matrix[s_index]         \n",
        "   \n",
        "        # TODO: Q-value using a neural network\n",
        "        Q = np.matmul(weights, x)\n",
        "        \n",
        "        # TODO: Greedy policy to select the most rewarding action\n",
        "        action = np.argmax(Q)\n",
        "        \n",
        "        if trial == 0:\n",
        "          action = np.random.randint(N_actions)           #pick random action\n",
        "        else:\n",
        "          #eps-greedy policy implementation\n",
        "          greedy = (np.random.rand() > eps)               #1--->greedy action 0--->non-greedy action\n",
        "          if greedy:\n",
        "              action = np.argmax(Q)                           #pick best action\n",
        "          else:\n",
        "              action = np.random.randint(N_actions)           #pick random action\n",
        "\n",
        "        # the output array (1 where action was taken, 0 otherwise)\n",
        "        output = np.zeros((N_actions))                     \n",
        "        output[action] = 1\n",
        "        \n",
        "        # Begin steps iteration \n",
        "        for step in range(n_steps):\n",
        "            \n",
        "            # Keep track of the current number of steps taken\n",
        "            learning_curve[trial] = step + 1\n",
        "            \n",
        "            # Apply selected action to move to give a new state \n",
        "            state_new = state + action_change[action]\n",
        "            \n",
        "            #put the robot back in grid if it goes out. Consider also the option to give a negative reward\n",
        "            if state_new[0] < 0:\n",
        "                state_new[0] = 0\n",
        "            if state_new[0] >= N:\n",
        "                state_new[0] = N-1\n",
        "            if state_new[1] < 0:\n",
        "                state_new[1] = 0\n",
        "            if state_new[1] >= M:\n",
        "                state_new[1] = M-1\n",
        "            \n",
        "            # Convert the new position into an index\n",
        "            s_index_new = np.ravel_multi_index(state_new, dims=(N,M), order='F')\n",
        "            cliff = [4,8,12,16,20,24,28,32,36,40]\n",
        "            \n",
        "            # if agent reaches the final tile\n",
        "            if (s_index_new == s_end):\n",
        "                r = 0\n",
        "                # convert the state into an input vector (S')\n",
        "                x_new = states_matrix[s_index_new]\n",
        "                \n",
        "                # TODO: Calculate the weight update with the immediate reward\n",
        "                dw = learning_rate * (r - Q[action]) * np.outer(output, x)\n",
        "                # dw = learning_rate * (r - Q[action]) * e\n",
        "                weights += dw\n",
        "\n",
        "                break\n",
        "\n",
        "            # if agent reaches the cliff tile\n",
        "            elif s_index_new in cliff:\n",
        "                # convert the state into an input vector (S')\n",
        "                x_new = states_matrix[s_index_new]\n",
        "                \n",
        "                r = -100\n",
        "                \n",
        "                # TODO: Calculate the weight update with the immediate reward\n",
        "                dw = learning_rate * (r - Q[action]) * np.outer(output, x)\n",
        "                # dw = learning_rate * (r - Q[action]) * e\n",
        "                weights += dw\n",
        "\n",
        "                # Store reward\n",
        "                Rewards[0,trial] += r \n",
        "                if (trial == 0):\n",
        "                  RewardsSmooth[0,trial] = r\n",
        "                else:\n",
        "                  RewardsSmooth[0,trial] = (Rewards[0,trial])*tau + RewardsSmooth[0,trial-1]*(1-tau)\n",
        "                break\n",
        "\n",
        "            # TODO: if it is not the end step then the new Q-values and actions \n",
        "            # should be calculated for the weight updates\n",
        "            else:\n",
        "                # Otherwise it is a normal step and we can need to select the next actions\n",
        "                r = -1\n",
        "                # Store reward\n",
        "                Rewards[0,trial] += r \n",
        "\n",
        "                if (trial == 0):\n",
        "                  RewardsSmooth[0,trial] = r\n",
        "                else:\n",
        "                  RewardsSmooth[0,trial] = (Rewards[0,trial])*tau + RewardsSmooth[0,trial-1]*(1-tau)\n",
        "\n",
        "                # convert the state into an input vector (S')\n",
        "                x_new = states_matrix[s_index_new]\n",
        "                \n",
        "                # TODO: Predict the new Q-values\n",
        "                Q_new = np.matmul( weights, x_new)\n",
        "                \n",
        "                # TODO: For SARSA we need to select the next action (A')\n",
        "                #action_new = np.argmax(Q_new)\n",
        "\n",
        "\n",
        "                #eps-greedy policy implementation\n",
        "                greedy = (np.random.rand() > eps)               #1--->greedy action 0--->non-greedy action\n",
        "                if greedy:\n",
        "                    action_new = np.argmax(Q_new)                           #pick best action\n",
        "                else:\n",
        "                    action_new = np.random.randint(N_actions)           #pick random action\n",
        "\n",
        "                # if Qlearning:\n",
        "                #   action_new2 = np.argmax(Q_new)                           #pick best actioN\n",
        "                #   dw = learning_rate * (r - Q[action] + gamma * Q_new[action_new2]) * np.outer(output, x)\n",
        "                # else: \n",
        "                dw = learning_rate * (r - Q[action] + gamma * Q_new[action_new]) * np.outer(output, x)\n",
        "                  \n",
        "                # TODO: Setup the output vector\n",
        "                output_new = np.zeros((N_actions))\n",
        "                output_new[action_new] = 1\n",
        "                \n",
        "                # TODO: Calculate the weight updates using SARSA\n",
        "                # dw = learning_rate * (r - Q[action] + gamma * Q_new[action_new]) * np.outer(output, x)\n",
        "                # dw = learning_rate * (r - Q[action] + gamma * Q_new[action_new]) * e\n",
        "                weights += dw\n",
        "            \n",
        "            # Replace the old values with the new ones ready for the next step\n",
        "            state = np.copy(state_new)\n",
        "            action = np.copy(action_new)\n",
        "            Q = np.copy(Q_new)\n",
        "            output = np.copy(output_new)\n",
        "            x = np.copy(x_new)\n",
        "            s_index = s_index_new\n",
        "\n",
        "    return learning_curve , Rewards"
      ]
    },
    {
      "cell_type": "markdown",
      "metadata": {
        "id": "3UObKg4l1nSc"
      },
      "source": [
        "#### Call the function homing_nn\n"
      ]
    },
    {
      "cell_type": "code",
      "execution_count": 14,
      "metadata": {
        "id": "wbj27sRL1nSc"
      },
      "outputs": [],
      "source": [
        "# Parameter setup\n",
        "nRepetitions = 5;   # number of runs for the algorithm\n",
        "nTrials = 500;      # should be integer >0\n",
        "nSteps = 100;        # maximum number of allowed steps\n",
        "learningRate = 0.5; # should be real, Greater than 0\n",
        "epsilon = 0.1;     # should be real, Greater or Equal to 0; epsion=0 Greedy, otherwise epsilon-Greedy\n",
        "gamma = 1;        # should be real, positive, smaller than 1\n",
        "\n",
        "learning_curves = np.zeros((nRepetitions, nTrials))\n",
        "\n",
        "Rewards = np.zeros((nRepetitions, nTrials))\n",
        "totalSmoothRewards = np.zeros((nRepetitions, nTrials))\n",
        "\n",
        "# TODO: average number of steps to finish the task per trial for nRepetitions\n",
        "for i in range(nRepetitions):\n",
        "    np.random.seed(i)\n",
        "    learning_curves[i], Rewards[i,:] = homing_nn(nTrials, nSteps, learningRate, epsilon, gamma)"
      ]
    },
    {
      "cell_type": "code",
      "execution_count": 15,
      "metadata": {
        "colab": {
          "base_uri": "https://localhost:8080/",
          "height": 279
        },
        "id": "jDfIPJem1nSi",
        "outputId": "3dba953d-9043-46f2-db12-836feef68bac"
      },
      "outputs": [
        {
          "output_type": "display_data",
          "data": {
            "text/plain": [
              "<Figure size 432x288 with 1 Axes>"
            ],
            "image/png": "[encoded data removed]"
          },
          "metadata": {
            "needs_background": "light"
          }
        }
      ],
      "source": [
        "# Plot the rewards averaged over the repeats\n",
        "plt.plot(np.arange(nTrials), Rewards.mean(axis=0))\n",
        "plt.xlabel('Trials')\n",
        "plt.ylabel('Average Reward')\n",
        "plt.show()"
      ]
    },
    {
      "cell_type": "code",
      "execution_count": 16,
      "metadata": {
        "id": "V6fFc6-n1nSj"
      },
      "outputs": [],
      "source": [
        "tau = 0.05\n",
        "totalSmoothRewards2 = np.zeros((nRepetitions, nTrials))\n",
        "for i in range(nRepetitions):\n",
        "  for j in range(nTrials):\n",
        "    if j == 0:\n",
        "      totalSmoothRewards2[i,j] = Rewards[i][j]\n",
        "    else:\n",
        "      totalSmoothRewards2[i][j] = Rewards[i][j] * tau + totalSmoothRewards2[i][j-1]*(1-tau)"
      ]
    },
    {
      "cell_type": "code",
      "source": [
        "# Plot the rewards averaged over the repeats\n",
        "plt.plot(np.arange(nTrials), totalSmoothRewards2.mean(axis=0))\n",
        "plt.xlabel('Trials')\n",
        "plt.ylabel('Average Reward')\n",
        "plt.show()"
      ],
      "metadata": {
        "colab": {
          "base_uri": "https://localhost:8080/",
          "height": 279
        },
        "id": "nWez3suoJzUt",
        "outputId": "c5d81f9b-d2ac-4517-b0e5-a1c0b7328e65"
      },
      "execution_count": 18,
      "outputs": [
        {
          "output_type": "display_data",
          "data": {
            "text/plain": [
              "<Figure size 432x288 with 1 Axes>"
            ],
            "image/png": "[encoded data removed]"
          },
          "metadata": {
            "needs_background": "light"
          }
        }
      ]
    }
  ],
  "metadata": {
    "kernelspec": {
      "display_name": "Python 3 (ipykernel)",
      "language": "python",
      "name": "python3"
    },
    "language_info": {
      "codemirror_mode": {
        "name": "ipython",
        "version": 3
      },
      "file_extension": ".py",
      "mimetype": "text/x-python",
      "name": "python",
      "nbconvert_exporter": "python",
      "pygments_lexer": "ipython3",
      "version": "3.8.11"
    },
    "colab": {
      "name": "robot.ipynb",
      "provenance": [],
      "include_colab_link": true
    }
  },
  "nbformat": 4,
  "nbformat_minor": 0
}