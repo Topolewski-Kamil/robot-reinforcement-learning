{
  "cells": [
    {
      "cell_type": "markdown",
      "metadata": {
        "id": "view-in-github",
        "colab_type": "text"
      },
      "source": [
        "<a href=\"https://colab.research.google.com/github/Topolewski-Kamil/robot-reinforcement-learning/blob/main/main.ipynb\" target=\"_parent\"><img src=\"https://colab.research.google.com/assets/colab-badge.svg\" alt=\"Open In Colab\"/></a>"
      ]
    },
    {
      "cell_type": "markdown",
      "metadata": {
        "id": "IX0XWl-63ugo"
      },
      "source": [
        "# Adaptive Intelligence COM3240\n",
        "\n",
        "## Lab 8: Reinforcement Learning\n",
        "\n",
        "\n",
        "### Introduction\n",
        "\n",
        "The main characteristic of reinforcement learning is that learning comes from interaction. The learner (or agent) has to achieve a specific goal by performing correct actions. If the goal is reached then he obtains reward. Given that there is no prior knowledge of which action is correct or wrong the agent needs to explore in order to reach the reward. It is possible for the agent to be rewarded not only when he reached the goal (future reward) but also by performing correct actions towards the goal (immediate reward).\n",
        "\n",
        "\n",
        "### Basic concepts and algorithms\n",
        "\n",
        "Reinforcement learning uses functions called value functions. Value functions are state-action pair functions that estimate how good a particular action will be in a given state, under a policy. Mathematically they are described by the notation $Q^{\\pi}(s,a)$.\n",
        "\n",
        "The value functions can be estimated by temporal difference (TD) learning methods. The TD methods calculate an estimation of the final reward at each state and the state-action value is updated for every step. They can be split up into two broad categories of methods, the on-policy methods and the off-policy methods. In the first category the agent learns the value of the policy that is used to make decisions, while in the second category the agent can learn different policies for behaviour and estimation. An example of an off-policy algorithm for TD learning is the Q-learning algorithm while an example of an on-policy algorithm for TD learning is the SARSA algorithm. The procedural forms of these two algorithms are described below:\n",
        "\n",
        "<img src=\"./algoQ.png\" width=\"500\"/>\n",
        "\n",
        "<img src=\"./algoSARSA.png\" width=\"500\"/>\n",
        "\n",
        "where $\\eta$ is the learning rate, $\\gamma$ is the discount factor and $max_a$ is the maximum reward that is attainable in the state following the current one.\n",
        "\n",
        "\n",
        "### The $\\epsilon$-greedy policy\n",
        "\n",
        "SARSA, being an on-policy algorithm does not explore new actions but always chooses the action with the highest expected reward. A way to include exploration is to choose the action with the highest expected reward at first, and then have a probability of following the same action or another, random one, the rest of the time. This approach is achieved with the $\\epsilon$-greedy policy where a greedy action is selected with probability $1-\\epsilon$, where $0 \\leq \\epsilon \\leq 1$, and a random action is selected the rest of the times.\n",
        "\n",
        "\n",
        "### Eligibility trace and the SARSA($\\lambda$) algorithm \n",
        "\n",
        "When TD learning algorithms like SARSA observes a high or low reward, the only state-action pair which has its $Q(s,a)$ value updated is the state-action pair $(s,a)$ which leads to the reward. The next time the algorithm reaches state $s$, the state-action pair which leads to state $s$ will have its Q-value updated. The idea now is to update all Q-values of the trajectory once the reward is received. In order for this to be achieved an eligibility trace $e(s,a)$ needs to be maintained for each state-action pair. This trace indicates how much the current reward will influence $Q(s,a)$. The eligibility trace can be used in combination with the SARSA algorithm. The procedural form of the new algorithm named SARSA($\\lambda$) is described below:\n",
        "\n",
        "<img src=\"./algoSARSAl.png\" width=\"500\"/>\n",
        "\n",
        "where $\\eta$ is the learning rate, $\\gamma$ is the discount factor and $\\lambda$ is an indicator for the influence of the current reward."
      ]
    },
    {
      "cell_type": "markdown",
      "metadata": {
        "id": "7a9ehLpT3ugu"
      },
      "source": [
        "## Laboratory 8\n",
        "\n",
        "#### Exercise\n",
        "\n",
        "<img src=\"./robot.png\" width=\"500\"/>\n",
        "\n",
        "A robot moves in a square room with four possible actions, North, South, East and West. It has to learn a ”homing” task, i.e. to return to a particular location, where for instance it can charge its battery (reward location). There are no explicit landmarks, but to simplify the task we assume that the robot has been familiarised with the environment and therefore it has some internal representation of its position own position in the space, but no explicit memory of the reward location. Your task is to write a program where the above-mentioned goal-oriented behaviour (homing) can be learned by using a reinforcement learning algorithm, in the following way:\n",
        "\n",
        "1. The robot is placed at a random location (segment) of the room.\n",
        "2. It explores the space/learns the goal oriented behaviour by using the SARSA algorithm with Q-values.\n",
        "3. Reward is given when the robot reaches the segment where the charger is located.\n",
        "3. Trial ends when reward is reached (or a predefined number of steps is exceeded) and procedure starts from 1 until a predefined number of trials is reached.\n",
        "\n",
        "At the end, you should plot the number of steps it took the robot to reach its target vs the trial number (learning curve). Successful learning means that the required number of steps is reduced as the trial number increases. We will call this procedure one run of the algorithm.\n",
        "\n",
        "Tasks:\n",
        "\n",
        "1. Develop the main SARSA routine and test your robot's homing behaviour over multiple repetitions. Plot the number of steps taken at each trial averaged over these repetitions.\n",
        "2. Implement the $\\epsilon$-Greedy algorithm instead of the greedy policy.\n",
        "3. Increase the grid size to 10 by 10, how does this affect the number of trials needed for the robot to learn the environment? You might need to increase the maximum number of steps allowed and/or the total number of trials.\n",
        "4. Implement an eligibility trace. Plot the difference in performance.\n",
        "5. Find the optimal learning rate, discount factor and epsilon for the $\\epsilon$-Greedy algorithm."
      ]
    },
    {
      "cell_type": "markdown",
      "metadata": {
        "id": "V4XpuhZf3ugw"
      },
      "source": [
        "#### Script that returns the learning curve for each trial"
      ]
    },
    {
      "cell_type": "code",
      "execution_count": 211,
      "metadata": {
        "id": "AkAqNpvu3ugw"
      },
      "outputs": [],
      "source": [
        "import numpy as np\n",
        "import matplotlib.pyplot as plt\n",
        "\n",
        "def homing_nn(n_trials, n_steps, learning_rate, eps, gamma):\n",
        "\n",
        "    lam = 0.9\n",
        "    \n",
        "    ## Definition of the environment\n",
        "    N = 4                               #height of the gridworld ---> number of rows\n",
        "    M = 12                               #length of the gridworld ---> number of columns\n",
        "    N_states = N * M                    #total number of states\n",
        "    \n",
        "    # Initialise a matrix where each row is one of the possible state vectors.\n",
        "    states_matrix = np.eye(N_states)\n",
        "\n",
        "    # 4 possible actions to move to each adjacent square\n",
        "    N_actions = 4                                           \n",
        "    action_change = np.array( [ [ 0, +1],\n",
        "                                [+1, 0],\n",
        "                                [ 0, -1],\n",
        "                                [-1, 0]])\n",
        "    action_labels = ['Right', 'Down', 'Left', 'Up'] \n",
        "    \n",
        "    \n",
        "    End = np.array([0, 11])                                     #terminal state--->reward\n",
        "    s_end = np.ravel_multi_index(End, dims=(N, M), order='F')  #terminal state. Conversion in single index\n",
        "\n",
        "    ## Rewards\n",
        "    R_end = 100                              #only when the robot reaches the charger, sited in End state\n",
        "\n",
        "    ## Variables\n",
        "    # Weight matrix to predict the Q-values for eah action in a given state\n",
        "    weights = np.random.rand(N_actions, N_states)*0.0\n",
        "    \n",
        "    # TODO: When the SARSA routine is working, build in an eligibility trace\n",
        "    # Remember, there is an eligibility value for each state-action pair so \n",
        "    # it will be a matrix the same shape as the weights.\n",
        "    # e = np.zeros((N_actions, N_states))\n",
        "    \n",
        "    # Learning curve: Here we will store the number of steps taken per trial\n",
        "    # If the agent learns the Q-values it should be able to reach the end\n",
        "    # in fewer steps. \n",
        "    learning_curve = np.zeros((n_trials))\n",
        "    \n",
        "    ## SARSA Algorithm\n",
        "    Rewards = np.zeros((1,nTrials))\n",
        "    RewardsSmooth = np.zeros((1,nTrials))\n",
        "    \n",
        "    # Since the rewards will be either 0 or 1, we will employ\n",
        "    # an exponential moving average to smooth over multiple trials\n",
        "    tau = 1\n",
        "\n",
        "    # Start trials\n",
        "    for trial in range(n_trials):\n",
        "\n",
        "        # Initialization\n",
        "        Start = np.array([0,0])  #random start\n",
        "        s_start = np.ravel_multi_index(Start, dims=(N,M), order='F')    #conversion in single index\n",
        "\n",
        "        state = Start                                                   #set current state\n",
        "        s_index = s_start                                               #conversion in single index\n",
        "        step = 0\n",
        "\n",
        "        # print('Start: ', Start)\n",
        "\n",
        "        # First step for SARSA or Q-learning\n",
        "        \n",
        "        # convert the state into an input vector\n",
        "        x = states_matrix[s_index]         \n",
        "   \n",
        "        # TODO: Q-value using a neural network\n",
        "        Q = np.matmul(weights, x)\n",
        "        \n",
        "        # TODO: Greedy policy to select the most rewarding action\n",
        "        action = np.argmax(Q)\n",
        "        \n",
        "        #eps-greedy policy implementation\n",
        "        greedy = (np.random.rand() > eps)               #1--->greedy action 0--->non-greedy action\n",
        "        if greedy:\n",
        "            action = np.argmax(Q)                           #pick best action\n",
        "        else:\n",
        "            action = np.random.randint(N_actions)           #pick random action\n",
        "\n",
        "        # TODO: setup the output array (1 where action was taken, 0 otherwise)\n",
        "        output = np.zeros((N_actions))                     \n",
        "        output[action] = 1\n",
        "        # print('Action: ', action)\n",
        "        \n",
        "        # Begin steps iteration \n",
        "        for step in range(n_steps):\n",
        "            \n",
        "            # e = e + np.outer(output, x)\n",
        "            \n",
        "            # Keep track of the current number of steps taken\n",
        "            learning_curve[trial] = step + 1\n",
        "            \n",
        "            # print('Old state: ', state)\n",
        "            # Apply selected action to move to give a new state \n",
        "            state_new = state + action_change[action]\n",
        "            # print('New state: ', state_new)\n",
        "            \n",
        "            #put the robot back in grid if it goes out. Consider also the option to give a negative reward\n",
        "            if state_new[0] < 0:\n",
        "                state_new[0] = 0\n",
        "            if state_new[0] >= N:\n",
        "                state_new[0] = N-1\n",
        "            if state_new[1] < 0:\n",
        "                state_new[1] = 0\n",
        "            if state_new[1] >= M:\n",
        "                state_new[1] = M-1\n",
        "            \n",
        "            # Convert the new position into an index\n",
        "            s_index_new = np.ravel_multi_index(state_new, dims=(N,M), order='F')\n",
        "            cliff = [4,8,12,16,20,24,28,32,36,40]\n",
        "            # TODO: Main SARSA or Q-learning routine\n",
        "            \n",
        "            # TODO: If the new position is the final state then agent receives the reward \n",
        "            # and the weights are updated as an immediate reward then break the for loop\n",
        "            if (s_index_new == s_end):\n",
        "                \n",
        "                # convert the state into an input vector (S')\n",
        "                x_new = states_matrix[s_index_new]\n",
        "                \n",
        "                # r = R_end\n",
        "                \n",
        "                # TODO: Calculate the weight update with the immediate reward\n",
        "                dw = learning_rate * (r - Q[action]) * np.outer(output, x)\n",
        "                # dw = learning_rate * (r - Q[action]) * e\n",
        "                weights += dw\n",
        "\n",
        "                # Store reward\n",
        "                # Rewards[0,trial] += r \n",
        "                break\n",
        "\n",
        "            elif s_index_new in cliff:\n",
        "                # convert the state into an input vector (S')\n",
        "                x_new = states_matrix[s_index_new]\n",
        "                \n",
        "                r = -100\n",
        "                \n",
        "                # TODO: Calculate the weight update with the immediate reward\n",
        "                dw = learning_rate * (r - Q[action]) * np.outer(output, x)\n",
        "                # dw = learning_rate * (r - Q[action]) * e\n",
        "                weights += dw\n",
        "\n",
        "                # Store reward\n",
        "                Rewards[0,trial] += r \n",
        "                RewardsSmooth[0,trial] = r if trial == 0 else r*tau + Rewards[0,trial-1]*(1-tau)\n",
        "                break\n",
        "\n",
        "            # TODO: if it is not the end step then the new Q-values and actions \n",
        "            # should be calculated for the weight updates\n",
        "            else:\n",
        "                # Otherwise it is a normal step and we can need to select the next actions\n",
        "                r = -1\n",
        "                # Store reward\n",
        "                Rewards[0,trial] += r \n",
        "                RewardsSmooth[0,trial] = r if trial == 0 else r*tau + Rewards[0,trial-1]*(1-tau)\n",
        "                # convert the state into an input vector (S')\n",
        "                x_new = states_matrix[s_index_new]\n",
        "                \n",
        "                # TODO: Predict the new Q-values\n",
        "                Q_new = np.matmul( weights, x_new)\n",
        "                \n",
        "                # TODO: For SARSA we need to select the next action (A')\n",
        "                #action_new = np.argmax(Q_new)\n",
        "                \n",
        "                #eps-greedy policy implementation\n",
        "                greedy = (np.random.rand() > eps)               #1--->greedy action 0--->non-greedy action\n",
        "                if greedy:\n",
        "                    action_new = np.argmax(Q_new)                           #pick best action\n",
        "                else:\n",
        "                    action_new = np.random.randint(N_actions)           #pick random action\n",
        "\n",
        "            \n",
        "                # TODO: Setup the output vector\n",
        "                output_new = np.zeros((N_actions))\n",
        "                output_new[action_new] = 1\n",
        "                \n",
        "                # TODO: Calculate the weight updates using SARSA\n",
        "                dw = learning_rate * (r - Q[action] + gamma * Q_new[action_new]) * np.outer(output, x)\n",
        "                # dw = learning_rate * (r - Q[action] + gamma * Q_new[action_new]) * e\n",
        "                weights += dw\n",
        "            \n",
        "            # e *= gamma*lam\n",
        "            \n",
        "            # Replace the old values with the new ones ready for the next step\n",
        "            state = np.copy(state_new)\n",
        "            action = np.copy(action_new)\n",
        "            Q = np.copy(Q_new)\n",
        "            output = np.copy(output_new)\n",
        "            x = np.copy(x_new)\n",
        "            s_index = s_index_new\n",
        "\n",
        "        \n",
        "             \n",
        "    return learning_curve , Rewards, RewardsSmooth\n"
      ]
    },
    {
      "cell_type": "markdown",
      "metadata": {
        "id": "2IYoHW2R3ugy"
      },
      "source": [
        "#### Call the function homing_nn\n"
      ]
    },
    {
      "cell_type": "code",
      "execution_count": 212,
      "metadata": {
        "id": "1cNY7ea63ugz"
      },
      "outputs": [],
      "source": [
        "\n",
        "# Parameter setup\n",
        "nRepetitions = 20;   # number of runs for the algorithm\n",
        "nTrials = 200;      # should be integer >0\n",
        "nSteps = 50;        # maximum number of allowed steps\n",
        "learningRate = 0.3; # should be real, Greater than 0\n",
        "epsilon = 0.1;     # should be real, Greater or Equal to 0; epsion=0 Greedy, otherwise epsilon-Greedy\n",
        "gamma = 1;        # should be real, positive, smaller than 1\n",
        "\n",
        "learning_curves = np.zeros((nRepetitions, nTrials))\n",
        "\n",
        "totalRewards = np.zeros((nRepetitions, nTrials))\n",
        "totalSmoothRewards = np.zeros((nRepetitions, nTrials))\n",
        "\n",
        "# TODO: average number of steps to finish the task per trial for nRepetitions\n",
        "for i in range(nRepetitions):\n",
        "    learning_curves[i], totalRewards[i,:], totalSmoothRewards[i,:] = homing_nn(nTrials, nSteps, learningRate, epsilon, gamma)"
      ]
    },
    {
      "cell_type": "code",
      "source": [
        "# Plot the average reward as a function of the number of trials --> the average has to be performed over the episodes\n",
        "means = np.mean(totalRewards, axis = 0)\n",
        "errors = np.std(totalRewards, axis = 0) / np.sqrt(nRepetitions) # errorbars are equal to standard error i.e. std/sqrt(samples)\n",
        "\n",
        "fontSize = 18\n",
        "plt.errorbar(np.arange(nTrials), means, errors, 0, elinewidth = 2, capsize = 4, alpha =0.8)\n",
        "plt.xlabel('Trial',fontsize = fontSize)\n",
        "plt.ylabel('Average Reward',fontsize = fontSize)\n",
        "plt.axis((-(nTrials/20.0),nTrials,-150.5,-13.5))\n",
        "plt.tick_params(axis = 'both', which='major', labelsize = 14)\n",
        "plt.show()"
      ],
      "metadata": {
        "colab": {
          "base_uri": "https://localhost:8080/",
          "height": 291
        },
        "id": "ZPu1L5nSZtZY",
        "outputId": "a6ec26fb-a784-47ca-e3f7-437d6a49229c"
      },
      "execution_count": 213,
      "outputs": [
        {
          "output_type": "display_data",
          "data": {
            "text/plain": [
              "<Figure size 432x288 with 1 Axes>"
            ],
            "image/png": "[encoded data removed]"
          },
          "metadata": {
            "needs_background": "light"
          }
        }
      ]
    },
    {
      "cell_type": "code",
      "execution_count": 214,
      "metadata": {
        "colab": {
          "base_uri": "https://localhost:8080/",
          "height": 287
        },
        "id": "6CCcKDCE3ugz",
        "outputId": "84ac76d8-816a-4c95-bfb1-7322fe9c5e84"
      },
      "outputs": [
        {
          "output_type": "display_data",
          "data": {
            "text/plain": [
              "<Figure size 432x288 with 1 Axes>"
            ],
            "image/png": "[encoded data removed]"
          },
          "metadata": {
            "needs_background": "light"
          }
        }
      ],
      "source": [
        "# Plot the rewards averaged over the repeats\n",
        "plt.plot(np.arange(nTrials), totalSmoothRewards.mean(axis=0))\n",
        "plt.xlabel('Trials')\n",
        "plt.ylabel('Average Reward')\n",
        "plt.show()"
      ]
    },
    {
      "cell_type": "code",
      "execution_count": null,
      "metadata": {
        "id": "XoOx1Eoq3ug1"
      },
      "outputs": [],
      "source": [
        ""
      ]
    },
    {
      "cell_type": "code",
      "execution_count": null,
      "metadata": {
        "id": "-Ja64Klo3ug1"
      },
      "outputs": [],
      "source": [
        ""
      ]
    }
  ],
  "metadata": {
    "kernelspec": {
      "display_name": "Python 3 (ipykernel)",
      "language": "python",
      "name": "python3"
    },
    "language_info": {
      "codemirror_mode": {
        "name": "ipython",
        "version": 3
      },
      "file_extension": ".py",
      "mimetype": "text/x-python",
      "name": "python",
      "nbconvert_exporter": "python",
      "pygments_lexer": "ipython3",
      "version": "3.8.11"
    },
    "colab": {
      "name": "main.ipynb",
      "provenance": [],
      "collapsed_sections": [],
      "machine_shape": "hm",
      "include_colab_link": true
    },
    "accelerator": "GPU"
  },
  "nbformat": 4,
  "nbformat_minor": 0
}